{
  "cells": [
    {
      "cell_type": "markdown",
      "metadata": {
        "id": "view-in-github",
        "colab_type": "text"
      },
      "source": [
        "<a href=\"https://colab.research.google.com/github/Fernando-Esqui23/Progra-III-2023/blob/main/Progra_III_2023.ipynb\" target=\"_parent\"><img src=\"https://colab.research.google.com/assets/colab-badge.svg\" alt=\"Open In Colab\"/></a>"
      ]
    },
    {
      "cell_type": "markdown",
      "metadata": {
        "id": "a5xX4mYPHlZN"
      },
      "source": [
        "**Introduccion a python**\n",
        "\n",
        "Declaracion de variables"
      ]
    },
    {
      "cell_type": "code",
      "execution_count": null,
      "metadata": {
        "colab": {
          "base_uri": "https://localhost:8080/"
        },
        "id": "gqGSsAV4GKFf",
        "outputId": "27eacb63-030c-4497-fa4b-67f19bd871a1"
      },
      "outputs": [
        {
          "name": "stdout",
          "output_type": "stream",
          "text": [
            "Hola Mundo\n"
          ]
        }
      ],
      "source": [
        "saludo = \"Hola Mundo\"\n",
        "print(saludo)"
      ]
    },
    {
      "cell_type": "code",
      "execution_count": null,
      "metadata": {
        "colab": {
          "base_uri": "https://localhost:8080/"
        },
        "id": "ojbW4wGfIw7T",
        "outputId": "5db69125-4ebe-4509-c4d6-886f53dc5873"
      },
      "outputs": [
        {
          "name": "stdout",
          "output_type": "stream",
          "text": [
            "La suma de  5  +  7.5 = 12.5\n"
          ]
        }
      ],
      "source": [
        "num1 = 5\n",
        "num2 = 7.5\n",
        "resp = num1 + num2\n",
        "print(\"La suma de \", num1, \" + \", num2, \"=\", resp)"
      ]
    },
    {
      "cell_type": "code",
      "execution_count": null,
      "metadata": {
        "colab": {
          "base_uri": "https://localhost:8080/"
        },
        "id": "zdast8G4KESx",
        "outputId": "598d4c09-74f2-4f35-9a67-ace0ffc693ba"
      },
      "outputs": [
        {
          "name": "stdout",
          "output_type": "stream",
          "text": [
            "Hola Rosmery Benitez, tu edad 25\n"
          ]
        }
      ],
      "source": [
        "name = \"Fernando Esquivel\"\n",
        "edad = 25\n",
        "saludo = \"Hola \"+ name + \", tu edad \"+ str(edad)\n",
        "print(saludo)"
      ]
    },
    {
      "cell_type": "code",
      "execution_count": null,
      "metadata": {
        "id": "aKu--gvQLKFj"
      },
      "outputs": [],
      "source": [
        "nombre = input(\"Dime tu nombre: \")\n",
        "edad = input(\"Tu Edad: \")\n",
        "saludo = \"Hola que tal \"+ nombre + \", tu edad: \"+ edad\n",
        "print(saludo)"
      ]
    },
    {
      "cell_type": "code",
      "execution_count": null,
      "metadata": {
        "colab": {
          "base_uri": "https://localhost:8080/"
        },
        "id": "IqvekszrNLq2",
        "outputId": "a85ca934-8fe7-425a-c534-88bfaa3f74ac"
      },
      "outputs": [
        {
          "name": "stdout",
          "output_type": "stream",
          "text": [
            "Num 1: 5.5\n",
            "Num 2: 3\n",
            "La suma es:  8.5\n"
          ]
        }
      ],
      "source": [
        "num1 = float(input(\"Num 1: \"))\n",
        "num2 = float(input(\"Num 2: \"))\n",
        "resp = num1 + num2\n",
        "print(\"La suma es: \", resp)"
      ]
    },
    {
      "cell_type": "markdown",
      "metadata": {
        "id": "F40pH3Ih7maL"
      },
      "source": [
        "TIPOS DE DATOS"
      ]
    },
    {
      "cell_type": "code",
      "execution_count": null,
      "metadata": {
        "colab": {
          "base_uri": "https://localhost:8080/"
        },
        "id": "nsaHrLNq7kZ2",
        "outputId": "5f823fb2-e329-4cb4-ac5d-fa46d7dea171"
      },
      "outputs": [
        {
          "name": "stdout",
          "output_type": "stream",
          "text": [
            "Los valores: Num 1:  5  Num 2:  4.9\n",
            "Valor: Num 1:  5\n"
          ]
        }
      ],
      "source": [
        "num1 = 5 #variable de tipo entero.\n",
        "num2 = 4.9 #variable de tipo double, real, decimal.\n",
        "print(\"Los valores: Num 1: \", num1, \" Num 2: \", num2)\n",
        "\n",
        "#num1 = 4.9\n",
        "print(\"Valor: Num 1: \", num1)"
      ]
    },
    {
      "cell_type": "code",
      "execution_count": null,
      "metadata": {
        "colab": {
          "base_uri": "https://localhost:8080/"
        },
        "id": "yayrOQVN8u3r",
        "outputId": "c12fbb39-a7c6-429e-e7bd-05071c1ba993"
      },
      "outputs": [
        {
          "name": "stdout",
          "output_type": "stream",
          "text": [
            "Variable Booleana:  False\n"
          ]
        }
      ],
      "source": [
        "varLogica = False\n",
        "\n",
        "print(\"Variable Booleana: \", varLogica)"
      ]
    },
    {
      "cell_type": "code",
      "execution_count": null,
      "metadata": {
        "colab": {
          "base_uri": "https://localhost:8080/"
        },
        "id": "Zig099CE9CAa",
        "outputId": "a22db571-8d6b-4398-c6eb-c7e2662bad4c"
      },
      "outputs": [
        {
          "name": "stdout",
          "output_type": "stream",
          "text": [
            "Mi Nombre:  Fernando Esquivel Iniciales:  F n Longitud:  17\n",
            "Primer Nombre:  Ferna\n",
            "Primer Nombre:  Ferna\n",
            "Apellido:  ndo Esquivel\n",
            "Apellid:  ndo Esquivel\n",
            "Apellido:   Esquivel\n"
          ]
        }
      ],
      "source": [
        "nombre = \"Fernando Esquivel\"\n",
        "print(\"Mi Nombre: \", nombre, \"Iniciales: \", nombre[0], nombre[5], \"Longitud: \", len(nombre) )\n",
        "print(\"Primer Nombre: \", nombre[0:5])\n",
        "print(\"Primer Nombre: \", nombre[:5])\n",
        "print(\"Apellido: \", nombre[5:len(nombre)])\n",
        "print(\"Apellid: \", nombre[5:])\n",
        "print(\"Apellido: \", nombre[-9:])\n"
      ]
    },
    {
      "cell_type": "code",
      "execution_count": null,
      "metadata": {
        "id": "3SjFmqx1BEtT"
      },
      "outputs": [],
      "source": [
        "print(type(num1))\n",
        "print(type(num2))\n",
        "print(type(varLogica))\n",
        "print(type(nombre))"
      ]
    },
    {
      "cell_type": "code",
      "execution_count": null,
      "metadata": {
        "colab": {
          "base_uri": "https://localhost:8080/"
        },
        "id": "FEQBcLJfCB2l",
        "outputId": "f2204155-daf9-42cb-8890-e5e43c30a07e"
      },
      "outputs": [
        {
          "name": "stdout",
          "output_type": "stream",
          "text": [
            "Num 1: 5.5\n",
            "Num 2: 4.6\n",
            "La suma es:  10.1\n"
          ]
        }
      ],
      "source": [
        "num1 = float(input(\"Num 1: \"))\n",
        "num2 = float(input(\"Num 2: \"))\n",
        "resp = num1 + num2\n",
        "print(\"La suma es: \", resp)"
      ]
    },
    {
      "cell_type": "code",
      "execution_count": null,
      "metadata": {
        "id": "2Ux8q7gtCqLU"
      },
      "outputs": [],
      "source": [
        "def suma(num1, num2):\n",
        "  return num1 + num2"
      ]
    },
    {
      "cell_type": "code",
      "execution_count": null,
      "metadata": {
        "colab": {
          "base_uri": "https://localhost:8080/"
        },
        "id": "w4vsG6DsCy8E",
        "outputId": "27a30e0b-68b7-4526-c0cf-41ff1af9a764"
      },
      "outputs": [
        {
          "name": "stdout",
          "output_type": "stream",
          "text": [
            "Num 1: 4\n",
            "N4.2um 2: 6\n",
            "10.0\n"
          ]
        }
      ],
      "source": [
        "num1 = float(input(\"Num 1: \"))\n",
        "num2 = float(input(\"N4.26um 2: \"))\n",
        "resp = suma(num1, num2)\n",
        "print(resp)"
      ]
    },
    {
      "cell_type": "markdown",
      "metadata": {
        "id": "6cq55WCdAnzB"
      },
      "source": [
        "**FUNCIONES DE USUARIO**\n",
        "\n",
        "* Convertir grados celsius a farenheit."
      ]
    },
    {
      "cell_type": "code",
      "execution_count": null,
      "metadata": {
        "id": "7SufsIquBvy3"
      },
      "outputs": [],
      "source": [
        "def convertir_cf(c):\n",
        "  return 32 + c*9/5"
      ]
    },
    {
      "cell_type": "code",
      "execution_count": null,
      "metadata": {
        "colab": {
          "base_uri": "https://localhost:8080/"
        },
        "id": "SurIz-llAnOq",
        "outputId": "a66a8d33-9640-4e8b-a14e-5752cf47057e"
      },
      "outputs": [
        {
          "name": "stdout",
          "output_type": "stream",
          "text": [
            "Celsius: 3\n",
            "F:  37.4\n"
          ]
        }
      ],
      "source": [
        "c = float(input(\"Celsius: \"))\n",
        "print(\"F: \", convertir_cf(c))"
      ]
    },
    {
      "cell_type": "markdown",
      "metadata": {
        "id": "kZ5SZj9jGwOd"
      },
      "source": [
        "**EJERCICIOS**\n",
        "* Convertir de Farenheit a Celsius\n",
        "* Convertir de [Celsius, Farenheit] a Kelvin"
      ]
    },
    {
      "cell_type": "code",
      "execution_count": null,
      "metadata": {
        "id": "T-V9nZ5ZJHhf"
      },
      "outputs": [],
      "source": [
        "def sueldo(numHrs, valorXhr):\n",
        "  sueldo = numHrs*valorXhr*30\n",
        "  if(numHrs>8):\n",
        "    sueldo += (numHrs-8)*valorXhr*2*30\n",
        "  #isss + afp = 3 + 6.25 = 9.25 = 100 - 9.25 = 90.75/100 = 0.9075\n",
        "  #sueldo = sueldo*0.9075\n",
        "  return sueldo"
      ]
    },
    {
      "cell_type": "code",
      "execution_count": null,
      "metadata": {
        "id": "EVHH4A95VL5O"
      },
      "outputs": [],
      "source": [
        "tabla_isr = [\n",
        "    [0.01, 472, 0, 0],\n",
        "    [472.01, 895.24, 0.1, 17.67],\n",
        "    [895.25, 2038.1, 0.2, 60.00],\n",
        "    [2038.11,9999999, 0.3, 288.57]\n",
        "]"
      ]
    },
    {
      "cell_type": "code",
      "execution_count": null,
      "metadata": {
        "id": "1L4sEmNOXTiC"
      },
      "outputs": [],
      "source": [
        "def calcularIsr(sueldo, sueldoNeto):\n",
        "  impSr = 0\n",
        "  for tramo in tabla_isr:\n",
        "    if sueldo>tramo[0] and sueldo<=tramo[1]:\n",
        "      impSr = (sueldoNeto-tramo[0])*tramo[2] + tramo[3]\n",
        "  return impSr"
      ]
    },
    {
      "cell_type": "code",
      "execution_count": null,
      "metadata": {
        "colab": {
          "base_uri": "https://localhost:8080/"
        },
        "id": "yh6CLsKzKsrj",
        "outputId": "b9f75f1f-9a2d-445f-abfb-9004f88e1a1e"
      },
      "outputs": [
        {
          "name": "stdout",
          "output_type": "stream",
          "text": [
            "Horas trabajadas: 8\n",
            "Sueldo:  960.0 ISR:  55.18999999999998 816.01\n"
          ]
        }
      ],
      "source": [
        "valorXhr = 4\n",
        "#isss = 3%\n",
        "#afp = 6.25%\n",
        "numHrs = float(input(\"Horas trabajadas: \"))\n",
        "s = sueldo(numHrs, valorXhr)\n",
        "isr = calcularIsr(s, s*0.9075)\n",
        "print( \"Sueldo: \", s, \"ISR: \", isr, s*0.9075-isr )"
      ]
    },
    {
      "cell_type": "markdown",
      "metadata": {
        "id": "heQxy-5yC4lK"
      },
      "source": [
        "**FUNCIONES LAMBDA**\n",
        "* FUNCIONES PRECONTRUIDAS MAP, FILTER, FIND, REDUCE, ETC."
      ]
    },
    {
      "cell_type": "code",
      "execution_count": null,
      "metadata": {
        "id": "eeH3DBemEiwZ"
      },
      "outputs": [],
      "source": [
        "def elevarCuadrado(num):\n",
        "  return num**2"
      ]
    },
    {
      "cell_type": "code",
      "execution_count": null,
      "metadata": {
        "id": "RTv6ZkhUFA1i"
      },
      "outputs": [],
      "source": [
        "data = [1,2,3,4,5]"
      ]
    },
    {
      "cell_type": "code",
      "execution_count": null,
      "metadata": {
        "colab": {
          "base_uri": "https://localhost:8080/"
        },
        "id": "PctATc9kDA2S",
        "outputId": "40cb686c-6d0a-49d5-b692-469e0dbaec0f"
      },
      "outputs": [
        {
          "name": "stdout",
          "output_type": "stream",
          "text": [
            "[1, 4, 9, 16, 25]\n"
          ]
        }
      ],
      "source": [
        "resp = map(elevarCuadrado, data)\n",
        "print(list(resp))"
      ]
    },
    {
      "cell_type": "code",
      "execution_count": null,
      "metadata": {
        "colab": {
          "base_uri": "https://localhost:8080/"
        },
        "id": "vNONfviMEuzJ",
        "outputId": "4ade38b4-3ed9-4e23-d0e3-bcb8c297176c"
      },
      "outputs": [
        {
          "name": "stdout",
          "output_type": "stream",
          "text": [
            "[1, 4, 9, 16, 25]\n"
          ]
        }
      ],
      "source": [
        "resp = map(lambda n:n**2, data)\n",
        "print(list(resp))"
      ]
    },
    {
      "cell_type": "code",
      "execution_count": null,
      "metadata": {
        "colab": {
          "base_uri": "https://localhost:8080/"
        },
        "id": "jSN45xd5E2Vi",
        "outputId": "f78c3d04-e994-4d44-f52e-bada260bb552"
      },
      "outputs": [
        {
          "name": "stdout",
          "output_type": "stream",
          "text": [
            "[1]\n"
          ]
        }
      ],
      "source": [
        "resp = filter(lambda n:n>2, data)\n",
        "print( list(resp) )"
      ]
    },
    {
      "cell_type": "code",
      "execution_count": null,
      "metadata": {
        "colab": {
          "base_uri": "https://localhost:8080/"
        },
        "id": "e83DxapWFYQp",
        "outputId": "4433b75d-ecdc-4d9b-f1f8-d2bb45140914"
      },
      "outputs": [
        {
          "name": "stdout",
          "output_type": "stream",
          "text": [
            "15\n"
          ]
        }
      ],
      "source": [
        "resp = functools.reduce(lambda a,n:a+n, data)\n",
        "print(resp)"
      ]
    },
    {
      "cell_type": "markdown",
      "metadata": {
        "id": "9RYnyWcrH5NJ"
      },
      "source": [
        "**TUPLAS**"
      ]
    },
    {
      "cell_type": "code",
      "execution_count": null,
      "metadata": {
        "colab": {
          "base_uri": "https://localhost:8080/"
        },
        "id": "cUXhU5ubH46h",
        "outputId": "bbae442a-cf08-459a-d245-a1d1d0e15618"
      },
      "outputs": [
        {
          "name": "stdout",
          "output_type": "stream",
          "text": [
            "1\n",
            "7\n"
          ]
        }
      ],
      "source": [
        "semana = (\"domingo\", \"lunes\", \"martes\", \"miercoles\", \"jueves\", \"viernes\", \"sabado\")\n",
        "#semana[0] = \"otro\"\n",
        "print( semana.count(\"domingo\") ) #count cuenta el numero de veces que aparece un elemento en la tupla\n",
        "print( len(semana) )"
      ]
    },
    {
      "cell_type": "markdown",
      "metadata": {
        "id": "r8xQvE7MJytA"
      },
      "source": [
        "**LISTAS** => **Array**"
      ]
    },
    {
      "cell_type": "code",
      "execution_count": null,
      "metadata": {
        "colab": {
          "base_uri": "https://localhost:8080/"
        },
        "id": "nomZjGFhJkBw",
        "outputId": "d3d965a4-c3d2-4205-d6c8-512a6c81e1c9"
      },
      "outputs": [
        {
          "name": "stdout",
          "output_type": "stream",
          "text": [
            "['nov', 'dic']\n",
            "['ene', 'feb']\n",
            "['enero', 'feb', 'mar', 'abr', 'may', 'jun', 'jul', 'ago', 'sep', 'oct', 'nov', 'dic']\n"
          ]
        }
      ],
      "source": [
        "meses = [\"ene\", \"feb\", \"mar\", \"abr\", \"may\", \"jun\", \"jul\", \"ago\", \"sep\", \"oct\", \"nov\", \"dic\"]\n",
        "print( meses[-2:] ) #ultimos dos meses del año\n",
        "print( meses[:2] ) #primero dos meses del año\n",
        "\n",
        "meses[0] = \"enero\"\n",
        "\n",
        "print( meses )"
      ]
    },
    {
      "cell_type": "code",
      "execution_count": null,
      "metadata": {
        "colab": {
          "base_uri": "https://localhost:8080/"
        },
        "id": "6ctEMmtTKzS5",
        "outputId": "0dbc90e3-551d-408f-cfb4-c97f0e8151fd"
      },
      "outputs": [
        {
          "name": "stdout",
          "output_type": "stream",
          "text": [
            "Progra II\n"
          ]
        }
      ],
      "source": [
        "materias = [ [\"Progra I\", [5,6,8], [8,7,9], [9,10,9] ], [\"Progra II\"] ]\n",
        "print( materias[1][0] )"
      ]
    },
    {
      "cell_type": "markdown",
      "metadata": {
        "id": "RwntUNyBLnxB"
      },
      "source": [
        "**DICCIONARIOS** => **JSON**"
      ]
    },
    {
      "cell_type": "code",
      "execution_count": null,
      "metadata": {
        "colab": {
          "base_uri": "https://localhost:8080/"
        },
        "id": "yvSSwGxWLsRU",
        "outputId": "ae4fdf71-c0ca-4d39-b237-a4d8e86c67ba"
      },
      "outputs": [
        {
          "name": "stdout",
          "output_type": "stream",
          "text": [
            "5\n"
          ]
        }
      ],
      "source": [
        "materias = {\n",
        "    \"Progra I\": {\n",
        "        \"c1\": {\n",
        "          \"lab1\" : 5,\n",
        "          \"lab2\" : 6,\n",
        "          \"parcial\" : 8\n",
        "      },\n",
        "      \"c2\": {\n",
        "          \"lab1\" : 8,\n",
        "          \"lab2\" : 7,\n",
        "          \"parcial\" : 9\n",
        "      },\n",
        "      \"c3\": {\n",
        "          \"lab1\" : 9,\n",
        "          \"lab2\" : 10,\n",
        "          \"parcial\" : 9\n",
        "      }\n",
        "    },\n",
        "    \"Progra II\" :{\n",
        "\n",
        "    }\n",
        "}\n",
        "print( materias[\"Progra I\"][\"c1\"][\"lab1\"] )"
      ]
    },
    {
      "cell_type": "markdown",
      "metadata": {
        "id": "rflA-XK2Gxzp"
      },
      "source": [
        "**LISTAS**"
      ]
    },
    {
      "cell_type": "code",
      "execution_count": null,
      "metadata": {
        "id": "uUSZtwSvG8CR"
      },
      "outputs": [],
      "source": [
        "data = [2,5,6,8,9]"
      ]
    },
    {
      "cell_type": "code",
      "execution_count": null,
      "metadata": {
        "colab": {
          "base_uri": "https://localhost:8080/"
        },
        "id": "EVZwYIs6HP1Y",
        "outputId": "7455c227-c1de-4507-b85c-e449c19bc691"
      },
      "outputs": [
        {
          "name": "stdout",
          "output_type": "stream",
          "text": [
            "[8, 125, 216, 512, 729]\n"
          ]
        }
      ],
      "source": [
        "resp = map(lambda n:n**3, data)\n",
        "print(list(resp))"
      ]
    },
    {
      "cell_type": "code",
      "execution_count": null,
      "metadata": {
        "colab": {
          "base_uri": "https://localhost:8080/"
        },
        "id": "V9_XbvqiIUv9",
        "outputId": "e125616f-6872-420f-a42f-1a147c0fbc71"
      },
      "outputs": [
        {
          "name": "stdout",
          "output_type": "stream",
          "text": [
            "[35.6, 41.0, 42.8, 46.4, 48.2]\n"
          ]
        }
      ],
      "source": [
        "f = map(lambda c:c*9/5 + 32, data)\n",
        "print( list(f) )"
      ]
    },
    {
      "cell_type": "code",
      "execution_count": null,
      "metadata": {
        "colab": {
          "base_uri": "https://localhost:8080/"
        },
        "id": "J72OJuAnKl2r",
        "outputId": "abaa672e-0ca3-4052-e9b3-b443a5d177c0"
      },
      "outputs": [
        {
          "name": "stdout",
          "output_type": "stream",
          "text": [
            "[2, 6, 8]\n"
          ]
        }
      ],
      "source": [
        "pares = filter(lambda n:n%2==0, data)\n",
        "print( list(pares) )"
      ]
    },
    {
      "cell_type": "code",
      "execution_count": null,
      "metadata": {
        "colab": {
          "base_uri": "https://localhost:8080/"
        },
        "id": "Tbag1lNsNtCU",
        "outputId": "7f9e679a-f3d4-45d9-afed-935e602e3fde"
      },
      "outputs": [
        {
          "name": "stdout",
          "output_type": "stream",
          "text": [
            "[5, 9]\n"
          ]
        }
      ],
      "source": [
        "impares = filter(lambda n:n%2!=0, data)\n",
        "print( list(impares) )"
      ]
    },
    {
      "cell_type": "markdown",
      "metadata": {
        "id": "ptWdcZGNOYHq"
      },
      "source": [
        "**CICLOS**\n",
        "* FOR"
      ]
    },
    {
      "cell_type": "code",
      "execution_count": null,
      "metadata": {
        "id": "CeuWJf9wOctp"
      },
      "outputs": [],
      "source": [
        "for item in data\n",
        "print(item)"
      ]
    },
    {
      "cell_type": "markdown",
      "metadata": {
        "id": "gQJ7xiLSO8Uh"
      },
      "source": [
        "* WHILE"
      ]
    },
    {
      "cell_type": "code",
      "execution_count": null,
      "metadata": {
        "id": "2ZUiISg8O7ox"
      },
      "outputs": [],
      "source": [
        "i=0\n",
        "n = len(data)\n",
        "while i<n:\n",
        "  print( data[i] )\n",
        "  i+=1"
      ]
    },
    {
      "cell_type": "markdown",
      "metadata": {
        "id": "RHUHe8PZPwmx"
      },
      "source": [
        "**TABLA DE MULTIPLICAR**"
      ]
    },
    {
      "cell_type": "code",
      "execution_count": null,
      "metadata": {
        "id": "bGpBsH0TPJ5g"
      },
      "outputs": [],
      "source": [
        "n = int(input(\"N Tabla: \"))\n",
        "\n",
        "for i in range(1,11):\n",
        "  print( n, \"x\", i, \"=\", n*i )"
      ]
    },
    {
      "cell_type": "code",
      "execution_count": null,
      "metadata": {
        "id": "_L4PXBeGSkA8"
      },
      "outputs": [],
      "source": [
        "edad = int(input(\"Edad: \"))\n",
        "\n",
        "if edad<=2:\n",
        "  print(\"soy un bebe\")\n",
        "elif edad<=11:\n",
        "  print(\"Soy un niño\")\n",
        "elif edad<18:\n",
        "  print(\"Soy un adolescente\")\n",
        "elif edad<=65:\n",
        "  print(\"soy mayor de edad\")\n",
        "elif edad<=85:\n",
        "  print(\"Soy un adulto mayor\")\n",
        "else:\n",
        "  print(\"Larga vida\")"
      ]
    },
    {
      "cell_type": "code",
      "execution_count": null,
      "metadata": {
        "id": "AblaQU4qStll"
      },
      "outputs": [],
      "source": [
        "mayor = 0\n",
        "for num in lista:\n",
        "  if num>mayor:\n",
        "    mayor = num\n",
        "print(\"EL numero mayor de la lista: \", lista, \"es: \", mayor)"
      ]
    },
    {
      "cell_type": "code",
      "execution_count": null,
      "metadata": {
        "id": "5Jg3sc5KSvMN"
      },
      "outputs": [],
      "source": [
        "mayor = 0\n",
        "i=0\n",
        "n=len(lista)\n",
        "while i<n:\n",
        "  if lista[i]>mayor:\n",
        "    mayor = lista[i]\n",
        "  i+=1\n",
        "print(mayor)"
      ]
    },
    {
      "cell_type": "markdown",
      "metadata": {
        "id": "kp37Mh-9Jm4E"
      },
      "source": [
        "**Escribir un programa que pida la nota de un examen (0-10), e imprima por pantalla la calificacion en formato: \"Suspenso\" si la nota es menor a 5, \"Aprobado\" si es entre 5 inclusive, y 7 sin incluir, \"Notable\" si esta entre 7 inclusive y 9 sin incluir, \"Sobresaliente\" si esta entre 9 inclusive y 10 sin incluir, y \"Honorable\" si es 10**\n"
      ]
    },
    {
      "cell_type": "code",
      "execution_count": null,
      "metadata": {
        "id": "3aEtrKofJh38"
      },
      "outputs": [],
      "source": [
        "nota = float(input(\"Nota: \"))\n",
        "if(nota<0 or nota>10):\n",
        "  print(\"Nota invalida\")\n",
        "elif(nota<5):\n",
        "  print(\"SUPENSO\")\n",
        "elif(nota<7):\n",
        "  print(\"APROBADO\")\n",
        "elif(nota<9):\n",
        "  print(\"NOTABLE\")\n",
        "elif(nota<10):\n",
        "  print(\"SOBRESALIENTE\")\n",
        "else:\n",
        "  print(\"HONORABLE\")"
      ]
    },
    {
      "cell_type": "markdown",
      "metadata": {
        "id": "5vjEaZgMTKgI"
      },
      "source": [
        "**Escriba un programa que muestre la secuencia fibonacci**"
      ]
    },
    {
      "cell_type": "code",
      "execution_count": null,
      "metadata": {
        "id": "-FHRFWknTKIh"
      },
      "outputs": [],
      "source": [
        "limit = int(input(\"Limit: \"))\n",
        "a=0\n",
        "b=1\n",
        "c=0\n",
        "while c<limit:\n",
        "  c=a+b\n",
        "  print(a,\"+\",b,\"=\", c)\n",
        "  b=a\n",
        "  a=c\n"
      ]
    },
    {
      "cell_type": "markdown",
      "metadata": {
        "id": "S2FEGrj0c0Yu"
      },
      "source": [
        "1. **Escriba un programa que encuentre la media aritmetica de una serie de numeros introducidos por el usuario**\n",
        "2. **Escriba un programa que determine si una palabra introducida por el usuario es palindrome o no, ejm. de palabras palindrome: Ana, oso, oro, etc.**\n",
        "3. Escriba un programa que convierta un numero instroducido por el usuario a su equivalente en numeros romanos. Ejm: 5 -> V"
      ]
    },
    {
      "cell_type": "markdown",
      "metadata": {
        "id": "SO7e1TgjQFzL"
      },
      "source": [
        "**PROGRAMACION ORIENTADA A OBJETOS.**\n",
        "\n",
        "* CLASE"
      ]
    },
    {
      "cell_type": "code",
      "execution_count": null,
      "metadata": {
        "id": "Q4--jycBQRW1"
      },
      "outputs": [],
      "source": [
        "class Calculadora:\n",
        "  def sumar(sefl, num1, num2):\n",
        "    return num1 + num2"
      ]
    },
    {
      "cell_type": "markdown",
      "metadata": {
        "id": "oAURe7sOQqoz"
      },
      "source": [
        "* INSTANCIA DE UNA CLASE"
      ]
    },
    {
      "cell_type": "code",
      "execution_count": null,
      "metadata": {
        "id": "B2S0xUofQmqk"
      },
      "outputs": [],
      "source": [
        "objCalculadora = Calculadora()"
      ]
    },
    {
      "cell_type": "markdown",
      "metadata": {
        "id": "9_7inFkhRBmr"
      },
      "source": [
        "* OBJETO"
      ]
    },
    {
      "cell_type": "code",
      "execution_count": null,
      "metadata": {
        "id": "BGr-KldCRBOL"
      },
      "outputs": [],
      "source": [
        "print( \"La suma de 5 + 3 = \", objCalculadora.sumar(5,3) )"
      ]
    },
    {
      "cell_type": "markdown",
      "metadata": {
        "id": "71jMmh9BM_MJ"
      },
      "source": [
        "**EJERCICIOS PRACTICOS - PYTHON**"
      ]
    },
    {
      "cell_type": "code",
      "execution_count": null,
      "metadata": {
        "colab": {
          "base_uri": "https://localhost:8080/"
        },
        "id": "ifwmwjLCsVcD",
        "outputId": "8d87a796-79f3-49b5-867a-16bc3b1ac03e"
      },
      "outputs": [
        {
          "name": "stdout",
          "output_type": "stream",
          "text": [
            "Saliendo del programa...\n"
          ]
        }
      ],
      "source": [
        "from IPython.core.display import clear_output\n",
        "\n",
        "def menu_principal():\n",
        "  print(\"Menú de Ejercicios\")\n",
        "  print(\"1. Calcular Sueldo con Deducciones\")\n",
        "  print(\"2. Calcular Pago de Agua por Mt Consumidos\")\n",
        "  print(\"3. Calcular n Meses Acumulados\")\n",
        "  print(\"4. Variedad de Coversores\")\n",
        "  print(\"5. Conversor Propio\")\n",
        "  print(\"6. Salir\")\n",
        "\n",
        "def sueldo(numHrs, valorXhr):\n",
        "    sueldo = numHrs * valorXhr * 30\n",
        "    if numHrs > 8:\n",
        "        sueldo += (numHrs - 8) * valorXhr * 2 * 30\n",
        "    return sueldo\n",
        "\n",
        "def calcularIsr(sueldo):\n",
        "    impSr = 0\n",
        "    for tramo in tabla_isr:\n",
        "        if sueldo > tramo[0] and sueldo <= tramo[1]:\n",
        "            impSr = (sueldo - tramo[0]) * tramo[2] + tramo[3]\n",
        "    return impSr\n",
        "\n",
        "def convertir(cantidad, factor_conversion_origen, factor_conversion_destino):\n",
        "    return cantidad * (factor_conversion_destino / factor_conversion_origen)\n",
        "\n",
        "def menu_conversores():\n",
        "    print(\"Conversiones Disponibles:\")\n",
        "    print(\"-------------------------\")\n",
        "    print(\"1. Conversor de Monedas\")\n",
        "    print(\"2. Conversor de Longitudes\")\n",
        "    print(\"3. Conversor de Masa\")\n",
        "    print(\"4. Conversor de Almacenamiento\")\n",
        "    print(\"5. Conversor de Tiempo\")\n",
        "    print(\"6. Conversor de Volumen\")\n",
        "    print(\"7. Conversor de Area\")\n",
        "    print(\"8. Salir\")\n",
        "\n",
        "def calcular_valor_agua(metros_calculados):\n",
        "    cuota_fija = 6\n",
        "\n",
        "    if metros_calculados <= 18:\n",
        "        valor_pagar = cuota_fija\n",
        "    elif metros_calculados <= 28:\n",
        "        tarifa_18 = metros_calculados - 18\n",
        "        valor_tarifa_18 = tarifa_18 * 0.45\n",
        "        valor_pagar = cuota_fija + valor_tarifa_18\n",
        "    else:\n",
        "        tarifa_28 = metros_consumidos - 28\n",
        "        valor_tarifa_28 = tarifa_28 * 0.65\n",
        "        valor_tarifa_18 = (28 - 18) * 0.45\n",
        "        valor_pagar = cuota_fija + valor_tarifa_18 + valor_tarifa_28\n",
        "\n",
        "    return valor_pagar\n",
        "\n",
        "def tabla_meses_acumulados(n):\n",
        "    tabla = [(mes, mes * (mes + 1) // 2, (mes - 1) * mes // 2) for mes in range(1, n + 1)]\n",
        "    return tabla\n",
        "\n",
        "def mostrar_tabla(tabla):\n",
        "  print(\"--------------------------\")\n",
        "  print(\"{:<6}      {:<12}\".format(\" MESES\", \" ACUMULACION\"))\n",
        "  print(\"--------------------------\")\n",
        "  for fila in tabla:\n",
        "    print(\"{:<2}       {} + {} = {}\".format(fila[0], fila[0], fila[2], fila[1]))\n",
        "\n",
        "while True:\n",
        "  menu_principal()\n",
        "  opcion = input(\"Selecciona una operación (1/2/3/4/5/6): \")\n",
        "\n",
        "  if opcion == \"6\":\n",
        "      clear_output()\n",
        "      print(\"Saliendo del programa...\")\n",
        "      break\n",
        "\n",
        "  elif opcion ==\"1\":\n",
        "\n",
        "    tabla_isr = [\n",
        "        [0.01, 472, 0, 0],\n",
        "        [472.01, 895.24, 0.1, 17.67],\n",
        "        [895.25, 2038.1, 0.2, 60.00],\n",
        "        [2038.11, 99999999, 0.3, 288.57]\n",
        "    ]\n",
        "\n",
        "    clear_output()\n",
        "\n",
        "    valorXhr = 4\n",
        "    print(\"---------------------------------\")\n",
        "    print(\"Calcular Sueldo con Deducciones\")\n",
        "    print(\"---------------------------------\")\n",
        "    numHrs = float(input(\"Horas Trabajadas: \"))\n",
        "    s = sueldo(numHrs, valorXhr)\n",
        "    isr = calcularIsr(s)\n",
        "    isss = s * 0.03  # 3% del sueldo\n",
        "    afp = s * 0.06   # 6% del sueldo\n",
        "    sueldo_neto = s - isr - isss - afp\n",
        "    print(\"Sueldo:\", s)\n",
        "    print(\"ISR:\", isr)\n",
        "    print(\"ISSS:\", isss)\n",
        "    print(\"AFP:\", afp)\n",
        "    print(\"Sueldo Neto:\", sueldo_neto)\n",
        "\n",
        "  elif opcion == \"2\":\n",
        "    clear_output()\n",
        "    print(\"---------------------------------------\")\n",
        "    print(\"Calcular Pago de Agua por Mt Consumidos\")\n",
        "    print(\"---------------------------------------\")\n",
        "\n",
        "    metros_consumidos = int(input(\"Ingrese el número de metros calculados: \"))\n",
        "    valor_pagar = calcular_valor_agua(metros_consumidos)\n",
        "    print(f\"El valor a pagar es: ${valor_pagar:.2f}\")\n",
        "\n",
        "  elif opcion == \"3\":\n",
        "    clear_output()\n",
        "    print(\"---------------------------\")\n",
        "    print(\"Calcular n Meses Acumulados\")\n",
        "    print(\"---------------------------\")\n",
        "\n",
        "    n_meses = int(input(\"Coloca un número de meses para ver la tabla: \"))\n",
        "    tabla_meses_acumulados = tabla_meses_acumulados(n_meses)\n",
        "    mostrar_tabla(tabla_meses_acumulados)\n",
        "\n",
        "  elif opcion == \"4\":\n",
        "    clear_output()\n",
        "    print(\"-------------------\")\n",
        "    print(\"Menú de Conversores\")\n",
        "    print(\"-------------------\")\n",
        "    menu_conversores()\n",
        "    opcion = input(\"Selecciona una operación (1/2/3/4/5/6/7/8): \")\n",
        "\n",
        "    if opcion == \"8\":\n",
        "      clear_output()\n",
        "      print(\"Saliendo del Programa...\")\n",
        "\n",
        "    elif opcion == \"1\":\n",
        "      opciones_menu = [\n",
        "          (\"USD (Dólar)\", 1.0),\n",
        "          (\"EUR (Euro)\", 0.85),\n",
        "          (\"JPY (Yen)\", 110.62),\n",
        "          (\"CAD (Dólar canadiense)\", 1.25),\n",
        "          (\"GBP (Libra esterlina)\", 0.73),\n",
        "          (\"COP (Peso Colombiano)\", 3.94),\n",
        "          (\"MXN (Peso Mexicano)\", 17.00),\n",
        "          (\"CNY (Yuan chino)\", 6.47),\n",
        "          (\"GTQ (Quetzal)\", 7.86),\n",
        "          (\"NIO (Colon Nicaraguense)\", 36.17)\n",
        "      ]\n",
        "\n",
        "      clear_output()\n",
        "\n",
        "      print(\"Monedas disponibles:\")\n",
        "      for idx, opcion in enumerate(opciones_menu, start=1):\n",
        "        print(f\"{idx}. {opcion[0]}\")\n",
        "\n",
        "      opcion_origen = int(input(\"Seleccione la moneda de origen (ingrese el número): \"))\n",
        "      opcion_destino = int(input(\"Seleccione la moneda de destino (ingrese el número): \"))\n",
        "\n",
        "      if 1 <= opcion_origen <= len(opciones_menu) and 1 <= opcion_destino <= len(opciones_menu):\n",
        "        tasa_origen = opciones_menu[opcion_origen - 1][1]\n",
        "        tasa_destino = opciones_menu[opcion_destino - 1][1]\n",
        "\n",
        "        cantidad = float(input(\"Ingrese la cantidad a convertir: \"))\n",
        "        resultado = convertir(cantidad, tasa_origen, tasa_destino)\n",
        "\n",
        "        print(f\"{cantidad} {opciones_menu[opcion_origen - 1][0]} equivale a: {resultado} {opciones_menu[opcion_destino - 1][0]}\")\n",
        "\n",
        "      else:\n",
        "        print(\"Selecciones no válidas.\")\n",
        "\n",
        "    elif opcion == \"2\":\n",
        "\n",
        "      factores_longitud = [\n",
        "          (\"Mts (Metros)\", 1.0),\n",
        "          (\"Dm (Decímetro)\", 10.0),\n",
        "          (\"Cm (Centímetros)\", 100.0),\n",
        "          (\"Mm (Milímetro)\", 1000.0),\n",
        "          (\"Km (Kilómetros)\", 0.001),\n",
        "          (\"Hm (Hectómetros)\", 0.01),\n",
        "          (\"Dam (Decámetros)\", 0.1),\n",
        "          (\"Pulgadas\", 39.3701),\n",
        "          (\"Pies\", 3.28084),\n",
        "          (\"Millas\", 0.000621371),\n",
        "        ]\n",
        "\n",
        "      clear_output()\n",
        "\n",
        "      print(\"Unidades de longitud disponibles:\")\n",
        "      for idx, opcion in enumerate(factores_longitud, start=1):\n",
        "        print(f\"{idx}. {opcion[0]}\")\n",
        "\n",
        "      unidad_origen = int(input(\"Seleccione la unidad de origen (ingrese el número): \"))\n",
        "      unidad_destino = int(input(\"Seleccione la unidad de destino (ingrese el número): \"))\n",
        "\n",
        "      if 1 <= unidad_origen <= len(factores_longitud) and 1 <= unidad_destino <= len(factores_longitud):\n",
        "       factor_conversion_origen = factores_longitud[unidad_origen - 1][1]\n",
        "       factor_conversion_destino = factores_longitud[unidad_destino - 1][1]\n",
        "\n",
        "       cantidad_longitud = float(input(f\"Ingrese la longitud en {factores_longitud[unidad_origen - 1][0]} a convertir: \"))\n",
        "       resultado_longitud = convertir(cantidad_longitud, factor_conversion_origen, factor_conversion_destino)\n",
        "\n",
        "       print(f\"{cantidad_longitud} {factores_longitud[unidad_origen - 1][0]} equivale a: {resultado_longitud} {factores_longitud[unidad_destino - 1][0]}\")\n",
        "\n",
        "      else:\n",
        "        print(\"Selecciones no válidas.\")\n",
        "\n",
        "    elif opcion == \"3\":\n",
        "        factores_masa = [\n",
        "            (\"Kg (Kilogramo)\", 1.0),\n",
        "            (\"g (Gramos)\", 1000.0),\n",
        "            (\"Lb (Libra)\", 2.20462),\n",
        "            (\"Oz (Onzas)\", 35.274),\n",
        "            (\"Mg (Miligramos)\", 1000000.0),\n",
        "            (\"T (Toneladas)\", 0.001),\n",
        "            (\"Hg (Hectogramos)\", 10.0),\n",
        "            (\"Dag (Decagramos)\", 100.0),\n",
        "            (\"dg (Decigramos)\", 10000.0),\n",
        "            (\"cg (Centigramos)\", 100000.0),\n",
        "        ]\n",
        "\n",
        "        clear_output()\n",
        "\n",
        "        print(\"Unidades de masa disponibles:\")\n",
        "        for idx, opcion in enumerate(factores_masa, start=1):\n",
        "            print(f\"{idx}. {opcion[0]}\")\n",
        "\n",
        "        unidad_origen = int(input(\"Seleccione la unidad de origen (ingrese el número): \"))\n",
        "        unidad_destino = int(input(\"Seleccione la unidad de destino (ingrese el número): \"))\n",
        "\n",
        "        if 1 <= unidad_origen <= len(factores_masa) and 1 <= unidad_destino <= len(factores_masa):\n",
        "            factor_conversion_origen = factores_masa[unidad_origen - 1][1]\n",
        "            factor_conversion_destino = factores_masa[unidad_destino - 1][1]\n",
        "\n",
        "            cantidad_masa = float(input(f\"Ingrese la masa en {factores_masa[unidad_origen - 1][0]} a convertir: \"))\n",
        "            resultado_masa = convertir(cantidad_masa, factor_conversion_origen, factor_conversion_destino)\n",
        "\n",
        "            print(f\"{cantidad_masa} {factores_masa[unidad_origen - 1][0]} equivale a: {resultado_masa} {factores_masa[unidad_destino - 1][0]}\")\n",
        "        else:\n",
        "            print(\"Selecciones no válidas.\")\n",
        "\n",
        "    elif opcion == \"4\":\n",
        "      factores_almacenamiento = [\n",
        "          (\"Bytes\", 1.0),\n",
        "          (\"KB (Kilobytes)\", 1e-3),\n",
        "          (\"MB (Megabytes)\", 1e-6),\n",
        "          (\"GB (Gigabytes)\", 1e-9),\n",
        "          (\"TB (Terabytes)\", 1e-12),\n",
        "          (\"PB (Petabytes)\", 1e-15),\n",
        "          (\"EB (Exabytes)\", 1e-18),\n",
        "          (\"ZB (Zettabytes)\", 1e-21),\n",
        "          (\"YB (Yottabytes)\", 1e-24),\n",
        "          (\"BB (Brontobytes)\", 1e-27),\n",
        "\n",
        "      ]\n",
        "\n",
        "      clear_output()\n",
        "\n",
        "      print(\"Unidades de almacenamiento disponibles:\")\n",
        "      for idx, opcion in enumerate(factores_almacenamiento, start=1):\n",
        "        print(f\"{idx}. {opcion[0]}\")\n",
        "\n",
        "      unidad_origen = int(input(\"Seleccione la unidad de origen (ingrese el número): \"))\n",
        "      unidad_destino = int(input(\"Seleccione la unidad de destino (ingrese el número): \"))\n",
        "\n",
        "\n",
        "      if 1 <= unidad_origen <= len(factores_almacenamiento) and 1 <= unidad_destino <= len(factores_almacenamiento):\n",
        "        factor_conversion_origen = factores_almacenamiento[unidad_origen - 1][1]\n",
        "        factor_conversion_destino = factores_almacenamiento[unidad_destino - 1][1]\n",
        "\n",
        "        cantidad_almacenamiento = float(input(f\"Ingrese el almacenamiento en {factores_almacenamiento[unidad_origen - 1][0]} a convertir: \"))\n",
        "        resultado_almacenamiento = convertir(cantidad_almacenamiento, factor_conversion_origen, factor_conversion_destino)\n",
        "\n",
        "        print(f\"{cantidad_almacenamiento} {factores_almacenamiento[unidad_origen - 1][0]} equivale a {resultado_almacenamiento} {factores_almacenamiento[unidad_destino - 1][0]}\")\n",
        "      else:\n",
        "        print(\"Selecciones Invalidas.\")\n",
        "\n",
        "    elif opcion == \"5\":\n",
        "      factores_tiempo = [\n",
        "           (\"Segundos\", 1.0),\n",
        "           (\"Minutos\", 1 / 60),\n",
        "           (\"Horas\", 1 / 3600),\n",
        "           (\"Días\", 1 / 86400),\n",
        "           (\"Semanas\", 1 / 604800),\n",
        "           (\"Meses\", 1 / 2592000),\n",
        "           (\"Años\", 1 / 31536000),\n",
        "           (\"Décadas\", 1 / 315360000),\n",
        "           (\"Siglos\", 1 / 3153600000),\n",
        "           (\"Milisegundos\", 1000.0),\n",
        "      ]\n",
        "\n",
        "      clear_output()\n",
        "\n",
        "      print(\"Unidades de Tiempo disponibles:\")\n",
        "      for idx, opcion in enumerate(factores_tiempo, start=1):\n",
        "        print(f\"{idx}. {opcion[0]}\")\n",
        "\n",
        "      unidad_origen = int(input(\"Seleccione la unidad de origen (ingrese el número): \"))\n",
        "      unidad_destino = int(input(\"Seleccione la unidad de destino (ingrese el número): \"))\n",
        "\n",
        "      if 1 <= unidad_origen <=len(factores_tiempo) and 1 <= unidad_destino <= len(factores_tiempo):\n",
        "        factor_conversion_origen = factores_tiempo[unidad_origen - 1][1]\n",
        "        factor_conversion_destino = factores_tiempo[unidad_destino - 1][1]\n",
        "\n",
        "        cantidad_tiempo = float(input(f\"Ingrese el tiempo en {factores_tiempo[unidad_origen - 1][0]} a convertir: \"))\n",
        "        resultado_tiempo = convertir(cantidad_tiempo, factor_conversion_origen, factor_conversion_destino)\n",
        "\n",
        "        print(f\"{cantidad_tiempo} {factores_tiempo [unidad_origen - 1][0]} equivale a {resultado_tiempo} {factores_tiempo[unidad_destino - 1][0]}\")\n",
        "      else:\n",
        "        print(\"Selecciones Invalidas\")\n",
        "\n",
        "    elif opcion == \"6\":\n",
        "      factores_volumen = [\n",
        "          (\"Litros\", 1.0),\n",
        "          (\"Mililitros\", 1000.0),\n",
        "          (\"Centímetros cúbicos\", 1000.0),\n",
        "          (\"Pulgadas cúbicas\", 61.0237),\n",
        "          (\"Pies cúbicos\", 0.0353147),\n",
        "          (\"Galones estadounidenses\", 0.264172),\n",
        "          (\"Galones británicos\", 0.219969),\n",
        "          (\"Decímetros cúbicos\", 1.0),\n",
        "          (\"Decalitros\", 0.1),\n",
        "          (\"Hectolitros\", 0.01),\n",
        "      ]\n",
        "\n",
        "      clear_output()\n",
        "\n",
        "      print(\"Unidades de Volumen disponibles: \")\n",
        "      for idx, opcion in enumerate(factores_volumen, start=1):\n",
        "        print(f\"{idx}. {opcion[0]}\")\n",
        "\n",
        "      unidad_origen = int(input(\"Seleccione la unidad de origen (ingrese el número): \"))\n",
        "      unidad_destino = int(input(\"Seleccione la unidad de destino (ingrese el número): \"))\n",
        "\n",
        "      if 1 <= unidad_origen <= len(factores_volumen) and 1<= unidad_destino <= len(factores_volumen):\n",
        "        factor_conversion_origen = factores_volumen[unidad_origen - 1][1]\n",
        "        factor_conversion_destino = factores_volumen[unidad_destino - 1][1]\n",
        "\n",
        "        cantidad_volumen = float(input(f\"Ingrese el volumen en {factores_volumen[unidad_origen - 1][0]} a convertir: \"))\n",
        "        resultado_volumen = convertir(cantidad_volumen, factor_conversion_origen, factor_conversion_destino)\n",
        "\n",
        "        print(f\"{cantidad_volumen} {factores_volumen [unidad_origen - 1][0]} equivale a {resultado_volumen} {factores_volumen[unidad_destino - 1][0]}\")\n",
        "\n",
        "    elif opcion == \"7\":\n",
        "      factores_area = [\n",
        "          (\"m² (Metros cuadrados)\", 1.0),\n",
        "          (\"km² (Kilómetros cuadrados)\", 0.000001),\n",
        "          (\"ft² (Pies cuadrados)\", 10.7639),\n",
        "          (\"ac (Acres)\", 0.000247105),\n",
        "          (\"ha (Hectáreas)\", 0.0001),\n",
        "          (\"cm² (Centímetros cuadrados)\", 10000.0),\n",
        "          (\"mm² (Milímetros cuadrados)\", 1000000.0),\n",
        "          (\"yd² (Yardas cuadradas)\", 1.19599),\n",
        "          (\"mi² (Millas cuadradas)\", 3.861e-7),\n",
        "          (\"in² (Pulgadas cuadradas)\", 1550.0031),\n",
        "      ]\n",
        "\n",
        "      clear_output()\n",
        "\n",
        "      print(\"Unidades de Area disponibles: \")\n",
        "      for idx, opcion in enumerate(factores_area, start=1):\n",
        "        print(f\"{idx}. {opcion[0]}\")\n",
        "\n",
        "      unidad_origen = int(input(\"Seleccione la unidad de origen (ingrese el número): \"))\n",
        "      unidad_destino = int(input(\"Seleccione la unidad de destino (ingrese el número): \"))\n",
        "\n",
        "      if 1 <= unidad_origen <= len(factores_area) and 1<= unidad_destino <= len(factores_area):\n",
        "        factor_conversion_origen = factores_area[unidad_origen - 1][1]\n",
        "        factor_conversion_destino = factores_area[unidad_destino - 1][1]\n",
        "\n",
        "        cantidad_area = float(input(f\"Ingrese el area en {factores_area[unidad_origen - 1][0]} a convertir: \"))\n",
        "        resultado_area = convertir(cantidad_area, factor_conversion_origen, factor_conversion_destino)\n",
        "\n",
        "        print(f\"{cantidad_area} {factores_area [unidad_origen - 1][0]} equivale a {resultado_area} {factores_area[unidad_destino - 1][0]}\")\n",
        "\n",
        "  elif opcion == \"5\":\n",
        "    clear_output()\n",
        "    print(\"----------------------\")\n",
        "    print(\"Conversor de Pastillas\")\n",
        "    print(\"----------------------\")\n",
        "    opciones_pastillas = [\n",
        "        (\"Cajas\", 1),\n",
        "        (\"Blísters\", 12),\n",
        "        (\"Pastillas\", 120)\n",
        "    ]\n",
        "\n",
        "    print(\"Opciones disponibles:\")\n",
        "    for idx, opcion in enumerate(opciones_pastillas, start=1):\n",
        "        print(f\"{idx}. {opcion[0]}\")\n",
        "\n",
        "    opcion_origen = int(input(\"Seleccione la unidad de origen (ingrese el número): \"))\n",
        "    opcion_destino = int(input(\"Seleccione la unidad de destino (ingrese el número): \"))\n",
        "\n",
        "    if 1 <= opcion_origen <= len(opciones_pastillas) and 1 <= opcion_destino <= len(opciones_pastillas):\n",
        "        factor_conversion_origen = opciones_pastillas[opcion_origen - 1][1]\n",
        "        factor_conversion_destino = opciones_pastillas[opcion_destino - 1][1]\n",
        "\n",
        "        cantidad = float(input(f\"Ingrese la cantidad en {opciones_pastillas[opcion_origen - 1][0]} a convertir: \"))\n",
        "        resultado = convertir(cantidad, factor_conversion_origen, factor_conversion_destino)\n",
        "\n",
        "        print(f\"{cantidad} {opciones_pastillas[opcion_origen - 1][0]} equivale a: {resultado} {opciones_pastillas[opcion_destino - 1][0]}\")\n",
        "\n",
        "    else:\n",
        "        print(\"Selecciones no válidas.\")\n",
        "\n",
        "  else:\n",
        "    print(\"Opción no válida. Por favor, selecciona una opción válida.\")\n",
        "\n",
        "\n",
        "  continuar = input(\"¿Deseas realizar otra operación? (s/n): \")\n",
        "  clear_output()\n",
        "  if continuar.lower() != \"s\":\n",
        "    print(\"Saliendo del programa...\")\n",
        "    break\n",
        "\n"
      ]
    },
    {
      "cell_type": "markdown",
      "metadata": {
        "id": "RR559YR_TVMa"
      },
      "source": [
        "**PARCIAL I: Fernando Antonio Esquivel Hernandez**"
      ]
    },
    {
      "cell_type": "code",
      "execution_count": null,
      "metadata": {
        "colab": {
          "background_save": true,
          "base_uri": "https://localhost:8080/"
        },
        "id": "AXNUTiqEWsj1",
        "outputId": "abd1fb9d-e60c-45a6-dc5b-c26a5c1de650"
      },
      "outputs": [
        {
          "name": "stdout",
          "output_type": "stream",
          "text": [
            "Unidades de Area disponibles: \n",
            "1. m² (Metros cuadrados)\n",
            "2. ft² (Pies cuadrados)\n",
            "3. v² (Vara cuadrada)\n",
            "4. yd² (Yardas cuadradas)\n",
            "5. ha (Hectáreas)\n",
            "6. Manzana\n",
            "7. Tarea\n"
          ]
        }
      ],
      "source": [
        "from IPython.core.display import clear_output\n",
        "\n",
        "def convertir(cantidad, factor_conversion_origen, factor_conversion_destino):\n",
        "  return cantidad * (factor_conversion_destino / factor_conversion_origen)\n",
        "\n",
        "while True:\n",
        "  factores_area = [\n",
        "      (\"m² (Metros cuadrados)\", 1.0),\n",
        "      (\"ft² (Pies cuadrados)\", 10.7639 ),\n",
        "      (\"v² (Vara cuadrada)\", 25.29),\n",
        "      (\"yd² (Yardas cuadradas)\", 1.19599),\n",
        "      (\"ha (Hectáreas)\", 0.0001),\n",
        "      (\"Manzana\", 0.000143327),\n",
        "      (\"Tarea\", 0.002285714285714286),\n",
        "\n",
        "  ]\n",
        "\n",
        "  clear_output()\n",
        "\n",
        "  print(\"Unidades de Area disponibles: \")\n",
        "  for idx, opcion in enumerate(factores_area, start=1):\n",
        "    print(f\"{idx}. {opcion[0]}\")\n",
        "\n",
        "  unidad_origen = int(input(\"Seleccione la unidad de origen (ingrese el número): \"))\n",
        "  unidad_destino = int(input(\"Seleccione la unidad de destino (ingrese el número): \"))\n",
        "\n",
        "  if 1 <= unidad_origen <= len(factores_area) and 1<= unidad_destino <= len(factores_area):\n",
        "     factor_conversion_origen = factores_area[unidad_origen - 1][1]\n",
        "     factor_conversion_destino = factores_area[unidad_destino - 1][1]\n",
        "\n",
        "     cantidad_area = float(input(f\"Ingrese el area en {factores_area[unidad_origen - 1][0]} a convertir: \"))\n",
        "     resultado_area = convertir(cantidad_area, factor_conversion_origen, factor_conversion_destino)\n",
        "\n",
        "     print(f\"{cantidad_area} {factores_area [unidad_origen - 1][0]} equivale a {resultado_area} {factores_area[unidad_destino - 1][0]}\")\n",
        "\n",
        "  continuar = input(\"¿Deseas realizar otra operación? (s/n): \")\n",
        "  clear_output()\n",
        "  if continuar.lower() != \"s\":\n",
        "    print(\"Saliendo del Conversor...\")\n",
        "    break\n"
      ]
    }
  ],
  "metadata": {
    "colab": {
      "provenance": [],
      "include_colab_link": true
    },
    "kernelspec": {
      "display_name": "Python 3",
      "name": "python3"
    },
    "language_info": {
      "name": "python"
    }
  },
  "nbformat": 4,
  "nbformat_minor": 0
}